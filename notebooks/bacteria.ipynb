{
 "cells": [
  {
   "cell_type": "markdown",
   "metadata": {},
   "source": [
    "# How to run the ../models/bacteria model."
   ]
  },
  {
   "cell_type": "markdown",
   "metadata": {},
   "source": [
    "First we import all necessary files."
   ]
  },
  {
   "cell_type": "code",
   "execution_count": 1,
   "metadata": {},
   "outputs": [],
   "source": [
    "import sys\n",
    "from random import randint\n",
    "from models.bacteria import set_up"
   ]
  },
  {
   "cell_type": "markdown",
   "metadata": {},
   "source": [
    "We then initialize global variables."
   ]
  },
  {
   "cell_type": "code",
   "execution_count": 2,
   "metadata": {},
   "outputs": [],
   "source": [
    "from indra.agent import Agent\n",
    "from indra.composite import Composite\n",
    "from indra.display_methods import BLUE, GREEN, RED\n",
    "from indra.env import Env\n",
    "from registry.registry import get_env, get_group, get_prop\n",
    "from registry.registry import user_tell, run_notice\n",
    "from indra.space import DEF_HEIGHT, DEF_WIDTH, distance\n",
    "from indra.utils import init_props\n",
    "\n",
    "MODEL_NAME = \"bacteria\"\n",
    "DEBUG = False  # turns debugging code on or off\n",
    "DEBUG2 = False  # turns deeper debugging code on or off\n",
    "\n",
    "BACTERIA = \"Bacteria\"\n",
    "NUTRIENTS = \"Nutrients\"\n",
    "TOXINS = \"Toxins\"\n",
    "\n",
    "DEF_NUM_BACT = 1\n",
    "NUM_TOXINS = 1\n",
    "DEF_NUM_NUTRIENTS = 1\n",
    "DEF_THRESHOLD = -0.2\n",
    "DEF_TOXIN_MOVE = 1\n",
    "DEF_BACTERIUM_MOVE = 3\n",
    "DEF_NUTRIENT_MOVE = 2\n",
    "\n"
   ]
  },
  {
   "cell_type": "markdown",
   "metadata": {},
   "source": [
    "Next we call the `set_up` function to set up the environment, groups, and agents of the model."
   ]
  },
  {
   "cell_type": "code",
   "execution_count": 3,
   "metadata": {},
   "outputs": [
    {
     "name": "stdout",
     "output_type": "stream",
     "text": [
      "What is the grid height? [2-100] (20) \n",
      "What is the grid width? [2-100] (20) \n",
      "How many toxins do you want? [1-100] (1) \n",
      "What toxin concentration threshold do you want? [-1--0.01] (-0.22) \n",
      "What toxin maximum move do you want? [1-5] (1) \n",
      "How many nutrients do you want? [1-100] (1) \n",
      "What nutrient maximum move do you want? [1-10] (1) \n",
      "How many bacteria do you want? [1-100] (1) \n",
      "What bacterium maximum move do you want? [1-15] (3) \n",
      "Welcome to Indra, gcallah!\n"
     ]
    }
   ],
   "source": [
    "set_up()\n"
   ]
  },
  {
   "cell_type": "markdown",
   "metadata": {},
   "source": [
    "You can run the model N periods by typing the number you want in the following function and then running it."
   ]
  },
  {
   "cell_type": "code",
   "execution_count": 5,
   "metadata": {},
   "outputs": [
    {
     "name": "stdout",
     "output_type": "stream",
     "text": [
      "Running env bacteria for 10 periods.\n",
      "In handle: # switches = 0; id: 4579276552\n",
      "Switching 0 agents between groups\n",
      "\n",
      "Total census for period 1:\n",
      "==================\n",
      "Group census:\n",
      "==================\n",
      "  Toxins (id: 4579690928): 1\n",
      "  Nutrients (id: 4579691208): 1\n",
      "  Bacteria (id: 4579332224): 1\n",
      "==================\n",
      "Agent census:\n",
      "==================\n",
      "  Agents who moved: 3\n",
      "  Agents who switched groups: 0\n",
      "In handle: # switches = 0; id: 4579276552\n",
      "Switching 0 agents between groups\n",
      "\n",
      "Total census for period 2:\n",
      "==================\n",
      "Group census:\n",
      "==================\n",
      "  Toxins (id: 4579690928): 1\n",
      "  Nutrients (id: 4579691208): 1\n",
      "  Bacteria (id: 4579332224): 1\n",
      "==================\n",
      "Agent census:\n",
      "==================\n",
      "  Agents who moved: 6\n",
      "  Agents who switched groups: 0\n",
      "In handle: # switches = 0; id: 4579276552\n",
      "Switching 0 agents between groups\n",
      "\n",
      "Total census for period 3:\n",
      "==================\n",
      "Group census:\n",
      "==================\n",
      "  Toxins (id: 4579690928): 1\n",
      "  Nutrients (id: 4579691208): 1\n",
      "  Bacteria (id: 4579332224): 1\n",
      "==================\n",
      "Agent census:\n",
      "==================\n",
      "  Agents who moved: 9\n",
      "  Agents who switched groups: 0\n",
      "In handle: # switches = 0; id: 4579276552\n",
      "Switching 0 agents between groups\n",
      "\n",
      "Total census for period 4:\n",
      "==================\n",
      "Group census:\n",
      "==================\n",
      "  Toxins (id: 4579690928): 1\n",
      "  Nutrients (id: 4579691208): 1\n",
      "  Bacteria (id: 4579332224): 1\n",
      "==================\n",
      "Agent census:\n",
      "==================\n",
      "  Agents who moved: 12\n",
      "  Agents who switched groups: 0\n",
      "In handle: # switches = 0; id: 4579276552\n",
      "Switching 0 agents between groups\n",
      "\n",
      "Total census for period 5:\n",
      "==================\n",
      "Group census:\n",
      "==================\n",
      "  Toxins (id: 4579690928): 1\n",
      "  Nutrients (id: 4579691208): 1\n",
      "  Bacteria (id: 4579332224): 1\n",
      "==================\n",
      "Agent census:\n",
      "==================\n",
      "  Agents who moved: 15\n",
      "  Agents who switched groups: 0\n",
      "In handle: # switches = 0; id: 4579276552\n",
      "Switching 0 agents between groups\n",
      "\n",
      "Total census for period 6:\n",
      "==================\n",
      "Group census:\n",
      "==================\n",
      "  Toxins (id: 4579690928): 1\n",
      "  Nutrients (id: 4579691208): 1\n",
      "  Bacteria (id: 4579332224): 1\n",
      "==================\n",
      "Agent census:\n",
      "==================\n",
      "  Agents who moved: 18\n",
      "  Agents who switched groups: 0\n",
      "In handle: # switches = 0; id: 4579276552\n",
      "Switching 0 agents between groups\n",
      "\n",
      "Total census for period 7:\n",
      "==================\n",
      "Group census:\n",
      "==================\n",
      "  Toxins (id: 4579690928): 1\n",
      "  Nutrients (id: 4579691208): 1\n",
      "  Bacteria (id: 4579332224): 1\n",
      "==================\n",
      "Agent census:\n",
      "==================\n",
      "  Agents who moved: 21\n",
      "  Agents who switched groups: 0\n",
      "In handle: # switches = 0; id: 4579276552\n",
      "Switching 0 agents between groups\n",
      "\n",
      "Total census for period 8:\n",
      "==================\n",
      "Group census:\n",
      "==================\n",
      "  Toxins (id: 4579690928): 1\n",
      "  Nutrients (id: 4579691208): 1\n",
      "  Bacteria (id: 4579332224): 1\n",
      "==================\n",
      "Agent census:\n",
      "==================\n",
      "  Agents who moved: 24\n",
      "  Agents who switched groups: 0\n",
      "In handle: # switches = 0; id: 4579276552\n",
      "Switching 0 agents between groups\n",
      "\n",
      "Total census for period 9:\n",
      "==================\n",
      "Group census:\n",
      "==================\n",
      "  Toxins (id: 4579690928): 1\n",
      "  Nutrients (id: 4579691208): 1\n",
      "  Bacteria (id: 4579332224): 1\n",
      "==================\n",
      "Agent census:\n",
      "==================\n",
      "  Agents who moved: 27\n",
      "  Agents who switched groups: 0\n",
      "In handle: # switches = 0; id: 4579276552\n",
      "Switching 0 agents between groups\n",
      "\n",
      "Total census for period 10:\n",
      "==================\n",
      "Group census:\n",
      "==================\n",
      "  Toxins (id: 4579690928): 1\n",
      "  Nutrients (id: 4579691208): 1\n",
      "  Bacteria (id: 4579332224): 1\n",
      "==================\n",
      "Agent census:\n",
      "==================\n",
      "  Agents who moved: 30\n",
      "  Agents who switched groups: 0\n"
     ]
    },
    {
     "data": {
      "text/plain": [
       "30"
      ]
     },
     "execution_count": 5,
     "metadata": {},
     "output_type": "execute_result"
    }
   ],
   "source": [
    "\n",
    "get_env().runN()"
   ]
  },
  {
   "cell_type": "markdown",
   "metadata": {},
   "source": [
    "You can view the position of all of the agents in space with the following command:"
   ]
  },
  {
   "cell_type": "code",
   "execution_count": 7,
   "metadata": {},
   "outputs": [
    {
     "data": {
      "image/png": "[encoded data removed]",
      "text/plain": [
       "<Figure size 432x288 with 1 Axes>"
      ]
     },
     "metadata": {},
     "output_type": "display_data"
    },
    {
     "data": {
      "text/plain": [
       "<indra.display_methods.ScatterPlot at 0x1090edba8>"
      ]
     },
     "execution_count": 7,
     "metadata": {},
     "output_type": "execute_result"
    }
   ],
   "source": [
    "get_env().scatter_graph()"
   ]
  },
  {
   "cell_type": "markdown",
   "metadata": {},
   "source": [
    "You can view the line graph through the following command:"
   ]
  },
  {
   "cell_type": "code",
   "execution_count": 6,
   "metadata": {},
   "outputs": [
    {
     "data": {
      "image/png": "[encoded data removed]",
      "text/plain": [
       "<Figure size 432x288 with 1 Axes>"
      ]
     },
     "metadata": {},
     "output_type": "display_data"
    },
    {
     "data": {
      "text/plain": [
       "<indra.display_methods.LineGraph at 0x110f31748>"
      ]
     },
     "execution_count": 6,
     "metadata": {},
     "output_type": "execute_result"
    }
   ],
   "source": [
    "get_env().line_graph()"
   ]
  },
  {
   "cell_type": "code",
   "execution_count": null,
   "metadata": {},
   "outputs": [],
   "source": []
  }
 ],
 "metadata": {
  "kernelspec": {
   "display_name": "Python 3",
   "language": "python",
   "name": "python3"
  },
  "language_info": {
   "codemirror_mode": {
    "name": "ipython",
    "version": 3
   },
   "file_extension": ".py",
   "mimetype": "text/x-python",
   "name": "python",
   "nbconvert_exporter": "python",
   "pygments_lexer": "ipython3",
   "version": "3.6.2"
  }
 },
 "nbformat": 4,
 "nbformat_minor": 2
}
