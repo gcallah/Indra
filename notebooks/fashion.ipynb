{
 "cells": [
  {
   "cell_type": "markdown",
   "metadata": {},
   "source": [
    "# How to run the ../models/fashion model."
   ]
  },
  {
   "cell_type": "markdown",
   "metadata": {},
   "source": [
    "First we import all necessary files."
   ]
  },
  {
   "cell_type": "code",
   "execution_count": null,
   "metadata": {},
   "outputs": [],
   "source": [
    "import math\n",
    "from operator import gt, lt\n",
    "from models.fashion import set_up"
   ]
  },
  {
   "cell_type": "markdown",
   "metadata": {},
   "source": [
    "We then initialize global variables."
   ]
  },
  {
   "cell_type": "code",
   "execution_count": null,
   "metadata": {},
   "outputs": [],
   "source": [
    "import numpy as np\n",
    "\n",
    "from indra.agent import Agent, X_VEC, Y_VEC, NEUTRAL\n",
    "from indra.agent import ratio_to_sin\n",
    "from indra.composite import Composite\n",
    "from indra.display_methods import NAVY, DARKRED, RED, BLUE\n",
    "from indra.env import Env\n",
    "from registry.registry import get_env, get_group, get_prop\n",
    "from registry.registry import run_notice, user_log_notif\n",
    "from indra.space import in_hood\n",
    "from indra.utils import init_props\n",
    "\n",
    "MODEL_NAME = \"fashion\"\n",
    "DEBUG = False  # turns debugging code on or off\n",
    "DEBUG2 = False  # turns deeper debugging code on or off\n",
    "\n",
    "NUM_TSETTERS = 5\n",
    "NUM_FOLLOWERS = 55\n",
    "\n",
    "ENV_WEIGHT = 0.6\n",
    "weightings = [1.0, ENV_WEIGHT]\n",
    "\n",
    "COLOR_PREF = \"color_pref\"\n",
    "DISPLAY_COLOR = \"display_color\"\n",
    "\n",
    "BLUE_SIN = 0.0\n",
    "RED_SIN = 1.0\n",
    "\n",
    "# for future use as we move to vector representation:\n",
    "BLUE_VEC = X_VEC\n",
    "RED_VEC = Y_VEC\n",
    "\n",
    "NOT_ZERO = .001\n",
    "\n",
    "TOO_SMALL = .01\n",
    "BIG_ENOUGH = .03\n",
    "\n",
    "HOOD_SIZE = 4\n",
    "\n",
    "FOLLOWER_PRENM = \"follower\"\n",
    "TSETTER_PRENM = \"tsetter\"\n",
    "\n",
    "RED_FOLLOWERS = \"Red Followers\"\n",
    "BLUE_FOLLOWERS = \"Blue Followers\"\n",
    "RED_TSETTERS = \"Red Trendsetters\"\n",
    "BLUE_TSETTERS = \"Blue Trendsetters\"\n",
    "\n",
    "OPP_GROUP = \"opp_group\"\n",
    "\n",
    "opp_group = {RED_TSETTERS: BLUE_TSETTERS,\n",
    "             BLUE_TSETTERS: RED_TSETTERS,\n",
    "             RED_FOLLOWERS: BLUE_FOLLOWERS,\n",
    "             BLUE_FOLLOWERS: RED_FOLLOWERS}\n",
    "\n"
   ]
  },
  {
   "cell_type": "markdown",
   "metadata": {},
   "source": [
    "Next we call the `set_up` function to set up the environment, groups, and agents of the model."
   ]
  },
  {
   "cell_type": "code",
   "execution_count": null,
   "metadata": {},
   "outputs": [],
   "source": [
    "set_up()\n"
   ]
  },
  {
   "cell_type": "markdown",
   "metadata": {},
   "source": [
    "You can run the model N periods by typing the number you want in the following function and then running it."
   ]
  },
  {
   "cell_type": "code",
   "execution_count": null,
   "metadata": {},
   "outputs": [],
   "source": [
    "Env(MODEL_NAME, members=groups, attrs={OPP_GROUP: opp_group})\n",
    ".runN()"
   ]
  },
  {
   "cell_type": "markdown",
   "metadata": {},
   "source": [
    "You can view the position of all of the agents in space with the following command:"
   ]
  },
  {
   "cell_type": "code",
   "execution_count": null,
   "metadata": {},
   "outputs": [],
   "source": [
    "Env(MODEL_NAME, members=groups, attrs={OPP_GROUP: opp_group})\n",
    ".scatter_graph()"
   ]
  },
  {
   "cell_type": "markdown",
   "metadata": {},
   "source": [
    "You can view the line graph through the following command:"
   ]
  },
  {
   "cell_type": "code",
   "execution_count": null,
   "metadata": {},
   "outputs": [],
   "source": [
    "Env(MODEL_NAME, members=groups, attrs={OPP_GROUP: opp_group})\n",
    ".line_graph()"
   ]
  }
 ],
 "metadata": {},
 "nbformat": 4,
 "nbformat_minor": 2
}
