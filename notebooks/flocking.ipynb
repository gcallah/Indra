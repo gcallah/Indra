{
 "cells": [
  {
   "cell_type": "markdown",
   "metadata": {},
   "source": [
    "# How to run the ../models/flocking model."
   ]
  },
  {
   "cell_type": "markdown",
   "metadata": {},
   "source": [
    "First we import all necessary files."
   ]
  },
  {
   "cell_type": "code",
   "execution_count": null,
   "metadata": {},
   "outputs": [],
   "source": [
    "from models.flocking import set_up"
   ]
  },
  {
   "cell_type": "markdown",
   "metadata": {},
   "source": [
    "We then initialize global variables."
   ]
  },
  {
   "cell_type": "code",
   "execution_count": null,
   "metadata": {},
   "outputs": [],
   "source": [
    "from indra.agent import Agent, X, Y, MOVE\n",
    "from indra.composite import Composite\n",
    "from indra.display_methods import BLUE, TREE\n",
    "from indra.env import Env\n",
    "from registry.registry import get_env\n",
    "from registry.registry import run_notice\n",
    "from indra.space import DEF_HEIGHT, DEF_WIDTH, distance\n",
    "from indra.utils import get_props\n",
    "\n",
    "MODEL_NAME = \"flocking\"\n",
    "DEBUG = True  # turns debugging code on or off\n",
    "DEBUG2 = False  # turns deeper debugging code on or off\n",
    "\n",
    "BIRD_GROUP = \"Birds\"\n",
    "DEF_NUM_BIRDS = 2\n",
    "DEF_DESIRED_DISTANCE = 2\n",
    "ACCEPTABLE_DEV = .05\n",
    "BIRD_MAX_MOVE = 1\n",
    "\n",
    "HALF_CIRCLE = 180\n",
    "FULL_CIRCLE = 360\n",
    "\n"
   ]
  },
  {
   "cell_type": "markdown",
   "metadata": {},
   "source": [
    "Next we call the `set_up` function to set up the environment, groups, and agents of the model."
   ]
  },
  {
   "cell_type": "code",
   "execution_count": null,
   "metadata": {},
   "outputs": [],
   "source": [
    "set_up()\n"
   ]
  },
  {
   "cell_type": "markdown",
   "metadata": {},
   "source": [
    "You can run the model N periods by typing the number you want in the following function and then running it."
   ]
  },
  {
   "cell_type": "code",
   "execution_count": null,
   "metadata": {},
   "outputs": [],
   "source": [
    "Env(\"the_sky\",\n",
    ".runN()"
   ]
  },
  {
   "cell_type": "markdown",
   "metadata": {},
   "source": [
    "You can view the position of all of the agents in space with the following command:"
   ]
  },
  {
   "cell_type": "code",
   "execution_count": null,
   "metadata": {},
   "outputs": [],
   "source": [
    "Env(\"the_sky\",\n",
    ".scatter_graph()"
   ]
  },
  {
   "cell_type": "markdown",
   "metadata": {},
   "source": [
    "You can view the line graph through the following command:"
   ]
  },
  {
   "cell_type": "code",
   "execution_count": null,
   "metadata": {},
   "outputs": [],
   "source": [
    "Env(\"the_sky\",\n",
    ".line_graph()"
   ]
  }
 ],
 "metadata": {},
 "nbformat": 4,
 "nbformat_minor": 2
}
