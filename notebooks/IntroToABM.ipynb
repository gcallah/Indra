{
 "cells": [
  {
   "cell_type": "markdown",
   "metadata": {},
   "source": [
    "## Agent-Based Modeling\n",
    "### What Is It? What's It For?"
   ]
  },
  {
   "cell_type": "markdown",
   "metadata": {},
   "source": [
    "This is an introduction to Agent-Based Modeling (ABM). ABM is a type of computer programming with applications to physics, chemistry, biology, epidemiology, weather forecasting, forestry, sociology, economics, business, and even film making. But to understand what makes it different from other modeling, we need a little background."
   ]
  },
  {
   "cell_type": "markdown",
   "metadata": {},
   "source": [
    "### What Is a Model?\n",
    "\n",
    "A model is a construction that \"resembles\" something we want to investigate, and which, by manipulation of the construct, we hope to learn about the subject we are investigating."
   ]
  },
  {
   "cell_type": "markdown",
   "metadata": {},
   "source": [
    "### Three Types of Modeling"
   ]
  },
  {
   "cell_type": "markdown",
   "metadata": {},
   "source": [
    "#### Simple Orders"
   ]
  },
  {
   "cell_type": "markdown",
   "metadata": {},
   "source": [
    "The first successes of mathematical modeling of reality were in describing *simple orders*. A classic expression of a simple order is Newton's second law of motion, *F* = *ma*: it relates one quantity to only two others, in a very straightforward manner. Similar examples are models for springs, and pendulums, and heat diffusion. Models of simple orders usually take the form of *differential equations*. These types of models were developed extensively in the 18th and 19th centuries, and are still very important today.\n",
    "\n",
    "<div align=\"center\">\n",
    "<figure>\n",
    "<img src=\"https://upload.wikimedia.org/wikipedia/commons/thumb/f/fc/Hookes-law-springs.png/440px-Hookes-law-springs.png\" width=\"25%\">\n",
    "    <figcaption>\n",
    "        <i>Hooke's Law is a model of the simple order of an isolated spring.</i>\n",
    "    </figcaption>\n",
    "</figure>\n",
    "</div>\n",
    "<br/>\n",
    "<div align=\"center\">\n",
    "<figure>\n",
    "<img\n",
    "src=\"https://upload.wikimedia.org/wikipedia/commons/f/f2/Orbit2.gif\" width=\"25%\">\n",
    "       <figcaption>\n",
    "        <i>A simple order: planetary orbits.</i>\n",
    "    </figcaption>\n",
    "</figure>\n",
    "</div>\n",
    "\n"
   ]
  },
  {
   "cell_type": "markdown",
   "metadata": {},
   "source": [
    "#### Disorder"
   ]
  },
  {
   "cell_type": "markdown",
   "metadata": {},
   "source": [
    "The second class of phenomena to be successfully modeled were *random* systems:\n",
    "\n",
    "\"Whereas ordinary mechanics only considers the behaviour of a single state, statistical mechanics introduces the statistical ensemble, which is a large collection of virtual, independent copies of the system in various states. The statistical ensemble is a probability distribution over all possible states of the system.\" -- *Wikipedia*\n",
    "\n",
    "The study of such systems was conducted by the use of *statistical models*. Examples of phenomena successfully modeled in this way includes thermodynamical systems, gas diffusion, Brownian motion, the evolution of a quantum wave function, height and weight distributions in a population, and games of chance.\n",
    "\n",
    "<img src=\"https://upload.wikimedia.org/wikipedia/commons/c/c2/Brownian_motion_large.gif\" width=\"25%\">\n",
    "\n",
    "<div align=\"center\">*Brownian motion: gas molecules producing random motion of a dust particle.*</div>\n",
    "\n",
    "In the mid-twentieth century, many scientists believed that these two types of models were all that were needed to capture all of reality: if some phenomenon could not be captured exactly by a simple model, then it must be random, and could be described by statistical analysis. But this view was soon to collapse, as, from multiple fields, researchers discovered..."
   ]
  },
  {
   "cell_type": "markdown",
   "metadata": {},
   "source": [
    "#### Complex orders"
   ]
  },
  {
   "cell_type": "markdown",
   "metadata": {},
   "source": [
    "The discovery of complex orders had been hinted at in work on the three-body problem: Newton had \"solved\" the problem of the planet's orbits by assuming that only the sun influenced their orbits, which is a good approximation. But once another planet was allowed to sneak into the system, the possible behavior became far more complex:\n",
    "\n",
    "<img src=\"https://upload.wikimedia.org/wikipedia/commons/1/11/3bodyproblem.gif\" width=\"74%\">\n",
    "\n",
    "Well, at least for our solar system, these complexities could (mostly) be ignored. But for other systems this was not the case: as researchers looked into \"far-from-equilibrium\" systems like our weather, or chaotic fluid dynamics, or the behavior of asset markets, they found that these exhibited patterns that could not be captured by models of simple orders, nor models of pure randomness. They were discovering the existence of *complex orders*.\n",
    "\n",
    "<img src=\"https://upload.wikimedia.org/wikipedia/commons/thumb/6/6a/LogisticTopMixing1-6.gif/440px-LogisticTopMixing1-6.gif\" width=\"25%\">\n",
    "\n",
    "The behavior of these orders could not be captured by analysis of a differential equation, nor by statistical procedures. Instead, in general, one creates a model based on some (seemingly) simple rules, and then *runs the model*, and only by doing so does one discover what the system does.\n",
    "\n",
    "A milestone along this path was the discovery, by the mathematician Benoit Mandelbrot, of the *Mandelbrot set*. Mandelbrot took the \"simple\" equation, *f*<sub>*c*</sub>(*z*) = *z*<sup>2</sup> + *c*, where *z* and *c* are complex numbers, and *iterated* it (feeding the result of one iteration into the next), with *z* at the start equal to 0, for *c* near the origin, and found that this seemingly simple equation produced fantastically complex results. In a *simple order*, small differences in the initial value of *c* ought to produce small differences in the final outcome. But Mandelbrot discovered that *extremely* small differences in the initial value of *c* could produce wildly divergent outcomes: this is a characteristic of complex systems: small differences in initial values can produce very big differences in the development of the system. If we color each point *c* by how fast the above equation moves away from the origin, we get a result like:\n",
    "\n",
    "<img src=\"https://upload.wikimedia.org/wikipedia/commons/thumb/2/21/Mandel_zoom_00_mandelbrot_set.jpg/644px-Mandel_zoom_00_mandelbrot_set.jpg\" width=\"25%\">\n",
    "<div align=\"center\">*The Mandelbrot set*</div>"
   ]
  },
  {
   "cell_type": "code",
   "execution_count": 5,
   "metadata": {
    "scrolled": true
   },
   "outputs": [
    {
     "data": {
      "text/html": [
       "<iframe width=\"560\" height=\"315\" src=\"https://www.youtube.com/embed/pCpLWbHVNhk\" frameborder=\"0\" allow=\"accelerometer; autoplay; encrypted-media; gyroscope; picture-in-picture\" allowfullscreen></iframe>"
      ],
      "text/plain": [
       "<IPython.core.display.HTML object>"
      ]
     },
     "execution_count": 5,
     "metadata": {},
     "output_type": "execute_result"
    }
   ],
   "source": [
    "from IPython.display import HTML\n",
    "\n",
    "HTML('<iframe width=\"560\" height=\"315\" src=\"https://www.youtube.com/embed/pCpLWbHVNhk\" frameborder=\"0\" allow=\"accelerometer; autoplay; encrypted-media; gyroscope; picture-in-picture\" allowfullscreen></iframe>')"
   ]
  },
  {
   "cell_type": "markdown",
   "metadata": {},
   "source": [
    "Similar phenomena were discovered in many fields... see the list of applications of ABMs above!... and a new field was opened to science: the study of *complex orders*. In general, we cannot either \"solve\" a problem in such an order by solving a differential equation, as we can for simple orders, or by purely statistical analysis, as we can for random phenomena. Instead, we must specify the rules the parts of the system must follow, and then we must *run the system*, most often on a computer, and see what *emerges*. (Another name for this field of study is *emergent phenomena*.)\n",
    "\n",
    "One of the important tools in exploring this (relatively) new field of complex orders has been *agent-based models*. In such models, instead of trying to find a \"top-down\" equation that we can solve, and therefore say exactly what the model predicts at time *t*, we instead create a number of *agents*, which we program to follow some rules of behavior, and then set those agents \"loose\" in an \"environment\" (our model), and allow them to interact. Such models are also sometimes called *cellular automata*.\n",
    "\n",
    "An early example of such a model was John Conway's *game of life*, where each \"cell\" on a grid evolved according to a simple rule, based on the state of its neighbors. Although the rules were simple, the \"game\" could produce very complex patterns:\n",
    "\n",
    "<img src=\"https://upload.wikimedia.org/wikipedia/commons/e/e5/Gospers_glider_gun.gif\" width=\"33%\">\n",
    "<div align=\"center\">*A \"glider\" in the game of life*</div>\n",
    "\n",
    "The pattern produced is clearly not \"random,\" but it also could not be predicted by any \"top-down\" equation attempting to model the system. The system needs to be *run* in order to see what patterns *emerge*."
   ]
  },
  {
   "cell_type": "markdown",
   "metadata": {},
   "source": [
    "### Applications of Agent-Based Modeling"
   ]
  },
  {
   "cell_type": "markdown",
   "metadata": {},
   "source": [
    "An early area in which ABMs were successfully applied was that of *flocking* or *schooling*. Birds form \"flocks,\" and fish \"schools,\" and these groups exhibit behavior that clearly is not random, but also cannot be described by any simple equation. For instance, check out this school of fish:"
   ]
  },
  {
   "cell_type": "code",
   "execution_count": 3,
   "metadata": {},
   "outputs": [
    {
     "data": {
      "text/html": [
       "<iframe width=\"560\" height=\"315\" src=\"https://www.youtube.com/embed/15B8qN9dre4\" frameborder=\"0\" allow=\"accelerometer; autoplay; encrypted-media; gyroscope; picture-in-picture\" allowfullscreen></iframe>"
      ],
      "text/plain": [
       "<IPython.core.display.HTML object>"
      ]
     },
     "execution_count": 3,
     "metadata": {},
     "output_type": "execute_result"
    }
   ],
   "source": [
    "HTML('<iframe width=\"560\" height=\"315\" src=\"https://www.youtube.com/embed/15B8qN9dre4\" frameborder=\"0\" allow=\"accelerometer; autoplay; encrypted-media; gyroscope; picture-in-picture\" allowfullscreen></iframe>')"
   ]
  },
  {
   "cell_type": "markdown",
   "metadata": {},
   "source": [
    "Note that there is no fish \"choreographer\": the school must emerge \"bottom-up\" from the behavior of inidividual fish.\n",
    "\n",
    "Using ABMs, researchers discovered that they could create agents that followed simple rules, and yet produced this sort of complex phenomena, like \"boids\":"
   ]
  },
  {
   "cell_type": "code",
   "execution_count": 4,
   "metadata": {},
   "outputs": [
    {
     "data": {
      "text/html": [
       "<iframe width=\"560\" height=\"315\" src=\"https://www.youtube.com/embed/QbUPfMXXQIY\" frameborder=\"0\" allow=\"accelerometer; autoplay; encrypted-media; gyroscope; picture-in-picture\" allowfullscreen></iframe>"
      ],
      "text/plain": [
       "<IPython.core.display.HTML object>"
      ]
     },
     "execution_count": 4,
     "metadata": {},
     "output_type": "execute_result"
    }
   ],
   "source": [
    "HTML('<iframe width=\"560\" height=\"315\" src=\"https://www.youtube.com/embed/QbUPfMXXQIY\" frameborder=\"0\" allow=\"accelerometer; autoplay; encrypted-media; gyroscope; picture-in-picture\" allowfullscreen></iframe>')"
   ]
  },
  {
   "cell_type": "markdown",
   "metadata": {},
   "source": [
    "ABM models have also been useful in many other fields, as noted above. Perhaps of particular interest is their application, over the past two decades, in film making. A common difficulty faced by film makers trying to shoot such scenes was whether to employ large numbers of real humans, all of whom would need to be directed, fed, and so on, or to try to animate these scenes with top-down control.\n",
    "\n",
    "Massive realized that ABM could cut this Gordian knot: instead of trying to control all of the animation top down, film makers could instead create \"agents\" who would follow simple rules, and then instantiate a whole host of such agents, and create the movie episode by simple allowing all of those agents to follow their own rules.\n",
    "\n",
    "This technique was so successful in the *Lord of the Rings* movies that since then [most film makers](http://www.massivesoftware.com/gallery.html) desiring huge crowd scenes have used ABM."
   ]
  },
  {
   "cell_type": "code",
   "execution_count": 6,
   "metadata": {},
   "outputs": [
    {
     "data": {
      "text/html": [
       "<iframe width=\"560\" height=\"315\" src=\"https://www.youtube.com/embed/EmTz7EAYLrs\" frameborder=\"0\" allow=\"accelerometer; autoplay; encrypted-media; gyroscope; picture-in-picture\" allowfullscreen></iframe>"
      ],
      "text/plain": [
       "<IPython.core.display.HTML object>"
      ]
     },
     "execution_count": 6,
     "metadata": {},
     "output_type": "execute_result"
    }
   ],
   "source": [
    "HTML('<iframe width=\"560\" height=\"315\" src=\"https://www.youtube.com/embed/EmTz7EAYLrs\" frameborder=\"0\" allow=\"accelerometer; autoplay; encrypted-media; gyroscope; picture-in-picture\" allowfullscreen></iframe>')"
   ]
  },
  {
   "cell_type": "markdown",
   "metadata": {},
   "source": [
    "### Our ABM Efforts"
   ]
  },
  {
   "cell_type": "markdown",
   "metadata": {},
   "source": [
    "Let's look at a few agent based models we've made here at Tandon.\n",
    "\n",
    "The first one is of the spread of a forestfire."
   ]
  },
  {
   "cell_type": "code",
   "execution_count": null,
   "metadata": {},
   "outputs": [],
   "source": [
    "%matplotlib inline\n",
    "from models.forestfire import main as ffmain\n",
    "\n",
    "ffmain()"
   ]
  },
  {
   "cell_type": "markdown",
   "metadata": {},
   "source": [
    "Another model we've built is of bacteria avoiding toxins and moving towards nutrients:"
   ]
  },
  {
   "cell_type": "code",
   "execution_count": null,
   "metadata": {},
   "outputs": [],
   "source": [
    "%matplotlib inline\n",
    "from models.bacteria import main as bamain\n",
    "\n",
    "bamain()"
   ]
  },
  {
   "cell_type": "markdown",
   "metadata": {},
   "source": [
    "Finally, let's look at a model of trends in fashion.\n",
    "\n",
    "In this model, there are trendsetters and followers. The trendsetters want to wear something that only other trendsetters wear. Meanwhile, the followers want to be just like the trendsetters.\n",
    "\n",
    "This leads to waves of fashion.\n",
    "\n"
   ]
  },
  {
   "cell_type": "code",
   "execution_count": null,
   "metadata": {},
   "outputs": [
    {
     "name": "stderr",
     "output_type": "stream",
     "text": [
      "/Library/Frameworks/Python.framework/Versions/3.6/lib/python3.6/site-packages/scipy/__init__.py:115: UserWarning: Numpy 1.13.3 or above is required for this version of scipy (detected version 1.13.1)\n",
      "  UserWarning)\n"
     ]
    },
    {
     "name": "stdout",
     "output_type": "stream",
     "text": [
      "What is the grid height? [2-100] (8) \n",
      "What is the grid width? [2-100] (8) \n",
      "How many fashion trendsetters do you want? [1-100] (4) \n",
      "How many fashion followers do you want? [1-100] (4) \n",
      "Welcome to Indra, gcallah!\n",
      "NOTIFICATION: Running model fashion\n",
      "\n",
      "***************\n",
      "Menu of Actions\n",
      "***************\n",
      "1.  Run for N periods\n",
      "2.  Display a population graph\n",
      "3.  Display a scatter plot\n",
      "4.  Examine model data\n",
      "6.  View log\n",
      "0.  Quit\n",
      "Please choose a number from the menu above:\n",
      "\n",
      "How many periods? 24\n",
      "Steps = 24\n",
      "NOTIFICATION: Running env fashion for 24 periods.\n",
      "NOTIFICATION: Switching 0 agents between groups\n",
      "NOTIFICATION: Agent tsetter1 is scheduled to switch from Red Trendsetters to Blue Trendsetters\n",
      "NOTIFICATION: Agent tsetter2 is scheduled to switch from Red Trendsetters to Blue Trendsetters\n",
      "\n",
      "Total census for period 1:\n",
      "==================\n",
      "Group census:\n",
      "==================\n",
      "  Blue Trendsetters: 0\n",
      "  Red Trendsetters: 4\n",
      "  Red Followers: 0\n",
      "  Blue Followers: 4\n",
      "==================\n",
      "Agent census:\n",
      "==================\n",
      "  Total agents moved: 6\n",
      "  Total agents who switched groups: 0\n",
      "NOTIFICATION: Switching 2 agents between groups\n",
      "NOTIFICATION: Agent tsetter2 is scheduled to switch from Blue Trendsetters to Red Trendsetters\n",
      "NOTIFICATION: Agent tsetter0 is scheduled to switch from Red Trendsetters to Blue Trendsetters\n",
      "NOTIFICATION: Agent tsetter3 is scheduled to switch from Red Trendsetters to Blue Trendsetters\n",
      "NOTIFICATION: Agent follower3 is scheduled to switch from Blue Followers to Red Followers\n",
      "\n",
      "Total census for period 2:\n",
      "==================\n",
      "Group census:\n",
      "==================\n",
      "  Blue Trendsetters: 2\n",
      "  Red Trendsetters: 2\n",
      "  Red Followers: 0\n",
      "  Blue Followers: 4\n",
      "==================\n",
      "Agent census:\n",
      "==================\n",
      "  Total agents moved: 10\n",
      "  Total agents who switched groups: 2\n",
      "NOTIFICATION: Switching 4 agents between groups\n",
      "NOTIFICATION: Agent tsetter1 is scheduled to switch from Blue Trendsetters to Red Trendsetters\n",
      "NOTIFICATION: Agent follower3 is scheduled to switch from Red Followers to Blue Followers\n",
      "\n",
      "Total census for period 3:\n",
      "==================\n",
      "Group census:\n",
      "==================\n",
      "  Blue Trendsetters: 3\n",
      "  Red Trendsetters: 1\n",
      "  Red Followers: 1\n",
      "  Blue Followers: 3\n",
      "==================\n",
      "Agent census:\n",
      "==================\n",
      "  Total agents moved: 16\n",
      "  Total agents who switched groups: 4\n",
      "NOTIFICATION: Switching 2 agents between groups\n",
      "NOTIFICATION: Agent tsetter0 is scheduled to switch from Blue Trendsetters to Red Trendsetters\n",
      "NOTIFICATION: Agent tsetter3 is scheduled to switch from Blue Trendsetters to Red Trendsetters\n",
      "\n",
      "Total census for period 4:\n",
      "==================\n",
      "Group census:\n",
      "==================\n",
      "  Blue Trendsetters: 2\n",
      "  Red Trendsetters: 2\n",
      "  Red Followers: 0\n",
      "  Blue Followers: 4\n",
      "==================\n",
      "Agent census:\n",
      "==================\n",
      "  Total agents moved: 22\n",
      "  Total agents who switched groups: 2\n",
      "NOTIFICATION: Switching 2 agents between groups\n",
      "NOTIFICATION: Agent follower1 is scheduled to switch from Blue Followers to Red Followers\n",
      "NOTIFICATION: Agent follower2 is scheduled to switch from Blue Followers to Red Followers\n",
      "NOTIFICATION: Agent follower3 is scheduled to switch from Blue Followers to Red Followers\n",
      "\n",
      "Total census for period 5:\n",
      "==================\n",
      "Group census:\n",
      "==================\n",
      "  Blue Trendsetters: 0\n",
      "  Red Trendsetters: 4\n",
      "  Red Followers: 0\n",
      "  Blue Followers: 4\n",
      "==================\n",
      "Agent census:\n",
      "==================\n",
      "  Total agents moved: 27\n",
      "  Total agents who switched groups: 2\n",
      "NOTIFICATION: Switching 3 agents between groups\n",
      "NOTIFICATION: Agent tsetter3 is scheduled to switch from Red Trendsetters to Blue Trendsetters\n",
      "\n",
      "Total census for period 6:\n",
      "==================\n",
      "Group census:\n",
      "==================\n",
      "  Blue Trendsetters: 0\n",
      "  Red Trendsetters: 4\n",
      "  Red Followers: 3\n",
      "  Blue Followers: 1\n",
      "==================\n",
      "Agent census:\n",
      "==================\n",
      "  Total agents moved: 34\n",
      "  Total agents who switched groups: 3\n",
      "NOTIFICATION: Switching 1 agents between groups\n",
      "NOTIFICATION: Agent tsetter2 is scheduled to switch from Red Trendsetters to Blue Trendsetters\n",
      "\n",
      "Total census for period 7:\n",
      "==================\n",
      "Group census:\n",
      "==================\n",
      "  Blue Trendsetters: 1\n",
      "  Red Trendsetters: 3\n",
      "  Red Followers: 3\n",
      "  Blue Followers: 1\n",
      "==================\n",
      "Agent census:\n",
      "==================\n",
      "  Total agents moved: 41\n",
      "  Total agents who switched groups: 1\n",
      "NOTIFICATION: Switching 1 agents between groups\n",
      "NOTIFICATION: Agent tsetter2 is scheduled to switch from Blue Trendsetters to Red Trendsetters\n",
      "\n",
      "Total census for period 8:\n",
      "==================\n",
      "Group census:\n",
      "==================\n",
      "  Blue Trendsetters: 2\n",
      "  Red Trendsetters: 2\n",
      "  Red Followers: 3\n",
      "  Blue Followers: 1\n",
      "==================\n",
      "Agent census:\n",
      "==================\n",
      "  Total agents moved: 48\n",
      "  Total agents who switched groups: 1\n",
      "NOTIFICATION: Switching 1 agents between groups\n",
      "NOTIFICATION: Agent tsetter1 is scheduled to switch from Red Trendsetters to Blue Trendsetters\n",
      "\n",
      "Total census for period 9:\n",
      "==================\n",
      "Group census:\n",
      "==================\n",
      "  Blue Trendsetters: 1\n",
      "  Red Trendsetters: 3\n",
      "  Red Followers: 3\n",
      "  Blue Followers: 1\n",
      "==================\n",
      "Agent census:\n",
      "==================\n",
      "  Total agents moved: 55\n",
      "  Total agents who switched groups: 1\n",
      "NOTIFICATION: Switching 1 agents between groups\n",
      "NOTIFICATION: Agent follower2 is scheduled to switch from Red Followers to Blue Followers\n",
      "\n",
      "Total census for period 10:\n",
      "==================\n",
      "Group census:\n",
      "==================\n",
      "  Blue Trendsetters: 2\n",
      "  Red Trendsetters: 2\n",
      "  Red Followers: 3\n",
      "  Blue Followers: 1\n",
      "==================\n",
      "Agent census:\n",
      "==================\n",
      "  Total agents moved: 62\n",
      "  Total agents who switched groups: 1\n",
      "NOTIFICATION: Switching 1 agents between groups\n",
      "NOTIFICATION: Agent tsetter3 is scheduled to switch from Blue Trendsetters to Red Trendsetters\n",
      "\n",
      "Total census for period 11:\n",
      "==================\n",
      "Group census:\n",
      "==================\n",
      "  Blue Trendsetters: 2\n",
      "  Red Trendsetters: 2\n",
      "  Red Followers: 2\n",
      "  Blue Followers: 2\n",
      "==================\n",
      "Agent census:\n",
      "==================\n",
      "  Total agents moved: 69\n",
      "  Total agents who switched groups: 1\n",
      "NOTIFICATION: Switching 1 agents between groups\n",
      "NOTIFICATION: Agent tsetter1 is scheduled to switch from Blue Trendsetters to Red Trendsetters\n",
      "NOTIFICATION: Agent tsetter0 is scheduled to switch from Red Trendsetters to Blue Trendsetters\n",
      "NOTIFICATION: Agent tsetter2 is scheduled to switch from Red Trendsetters to Blue Trendsetters\n",
      "NOTIFICATION: Agent follower0 is scheduled to switch from Blue Followers to Red Followers\n",
      "\n",
      "Total census for period 12:\n",
      "==================\n",
      "Group census:\n",
      "==================\n",
      "  Blue Trendsetters: 1\n",
      "  Red Trendsetters: 3\n",
      "  Red Followers: 2\n",
      "  Blue Followers: 2\n",
      "==================\n",
      "Agent census:\n",
      "==================\n",
      "  Total agents moved: 73\n",
      "  Total agents who switched groups: 1\n",
      "NOTIFICATION: Switching 4 agents between groups\n",
      "NOTIFICATION: Agent tsetter3 is scheduled to switch from Red Trendsetters to Blue Trendsetters\n",
      "NOTIFICATION: Agent follower2 is scheduled to switch from Blue Followers to Red Followers\n",
      "\n",
      "Total census for period 13:\n",
      "==================\n",
      "Group census:\n",
      "==================\n",
      "  Blue Trendsetters: 2\n",
      "  Red Trendsetters: 2\n",
      "  Red Followers: 3\n",
      "  Blue Followers: 1\n",
      "==================\n",
      "Agent census:\n",
      "==================\n",
      "  Total agents moved: 79\n",
      "  Total agents who switched groups: 4\n",
      "NOTIFICATION: Switching 2 agents between groups\n",
      "NOTIFICATION: Agent tsetter1 is scheduled to switch from Red Trendsetters to Blue Trendsetters\n",
      "\n",
      "Total census for period 14:\n",
      "==================\n",
      "Group census:\n",
      "==================\n",
      "  Blue Trendsetters: 3\n",
      "  Red Trendsetters: 1\n",
      "  Red Followers: 4\n",
      "  Blue Followers: 0\n",
      "==================\n",
      "Agent census:\n",
      "==================\n",
      "  Total agents moved: 86\n",
      "  Total agents who switched groups: 2\n",
      "NOTIFICATION: Switching 1 agents between groups\n",
      "NOTIFICATION: Agent follower2 is scheduled to switch from Red Followers to Blue Followers\n",
      "\n",
      "Total census for period 15:\n",
      "==================\n",
      "Group census:\n",
      "==================\n",
      "  Blue Trendsetters: 4\n",
      "  Red Trendsetters: 0\n",
      "  Red Followers: 4\n",
      "  Blue Followers: 0\n",
      "==================\n",
      "Agent census:\n",
      "==================\n",
      "  Total agents moved: 93\n",
      "  Total agents who switched groups: 1\n",
      "NOTIFICATION: Switching 1 agents between groups\n",
      "NOTIFICATION: Agent follower3 is scheduled to switch from Red Followers to Blue Followers\n",
      "NOTIFICATION: Agent follower0 is scheduled to switch from Red Followers to Blue Followers\n",
      "\n",
      "Total census for period 16:\n",
      "==================\n",
      "Group census:\n",
      "==================\n",
      "  Blue Trendsetters: 4\n",
      "  Red Trendsetters: 0\n",
      "  Red Followers: 3\n",
      "  Blue Followers: 1\n",
      "==================\n",
      "Agent census:\n",
      "==================\n",
      "  Total agents moved: 99\n",
      "  Total agents who switched groups: 1\n",
      "NOTIFICATION: Switching 2 agents between groups\n",
      "NOTIFICATION: Agent tsetter3 is scheduled to switch from Blue Trendsetters to Red Trendsetters\n",
      "NOTIFICATION: Agent tsetter1 is scheduled to switch from Blue Trendsetters to Red Trendsetters\n",
      "\n",
      "Total census for period 17:\n",
      "==================\n",
      "Group census:\n",
      "==================\n",
      "  Blue Trendsetters: 4\n",
      "  Red Trendsetters: 0\n",
      "  Red Followers: 1\n",
      "  Blue Followers: 3\n",
      "==================\n",
      "Agent census:\n",
      "==================\n",
      "  Total agents moved: 105\n",
      "  Total agents who switched groups: 2\n",
      "NOTIFICATION: Switching 2 agents between groups\n",
      "NOTIFICATION: Agent tsetter2 is scheduled to switch from Blue Trendsetters to Red Trendsetters\n",
      "\n",
      "Total census for period 18:\n",
      "==================\n",
      "Group census:\n",
      "==================\n",
      "  Blue Trendsetters: 2\n",
      "  Red Trendsetters: 2\n",
      "  Red Followers: 1\n",
      "  Blue Followers: 3\n",
      "==================\n",
      "Agent census:\n",
      "==================\n",
      "  Total agents moved: 112\n",
      "  Total agents who switched groups: 2\n",
      "NOTIFICATION: Switching 1 agents between groups\n",
      "NOTIFICATION: Agent tsetter0 is scheduled to switch from Blue Trendsetters to Red Trendsetters\n",
      "NOTIFICATION: Agent follower2 is scheduled to switch from Blue Followers to Red Followers\n",
      "NOTIFICATION: Agent follower0 is scheduled to switch from Blue Followers to Red Followers\n",
      "\n",
      "Total census for period 19:\n",
      "==================\n",
      "Group census:\n",
      "==================\n",
      "  Blue Trendsetters: 1\n",
      "  Red Trendsetters: 3\n",
      "  Red Followers: 1\n",
      "  Blue Followers: 3\n",
      "==================\n",
      "Agent census:\n",
      "==================\n",
      "  Total agents moved: 117\n",
      "  Total agents who switched groups: 1\n",
      "NOTIFICATION: Switching 3 agents between groups\n",
      "NOTIFICATION: Agent tsetter0 is scheduled to switch from Red Trendsetters to Blue Trendsetters\n",
      "NOTIFICATION: Agent follower3 is scheduled to switch from Blue Followers to Red Followers\n",
      "\n",
      "Total census for period 20:\n",
      "==================\n",
      "Group census:\n",
      "==================\n",
      "  Blue Trendsetters: 0\n",
      "  Red Trendsetters: 4\n",
      "  Red Followers: 3\n",
      "  Blue Followers: 1\n",
      "==================\n",
      "Agent census:\n",
      "==================\n",
      "  Total agents moved: 123\n",
      "  Total agents who switched groups: 3\n",
      "NOTIFICATION: Switching 2 agents between groups\n",
      "NOTIFICATION: Agent tsetter3 is scheduled to switch from Red Trendsetters to Blue Trendsetters\n",
      "NOTIFICATION: Agent tsetter1 is scheduled to switch from Red Trendsetters to Blue Trendsetters\n",
      "\n",
      "Total census for period 21:\n",
      "==================\n",
      "Group census:\n",
      "==================\n",
      "  Blue Trendsetters: 1\n",
      "  Red Trendsetters: 3\n",
      "  Red Followers: 4\n",
      "  Blue Followers: 0\n",
      "==================\n",
      "Agent census:\n",
      "==================\n",
      "  Total agents moved: 129\n",
      "  Total agents who switched groups: 2\n",
      "NOTIFICATION: Switching 2 agents between groups\n",
      "NOTIFICATION: Agent tsetter2 is scheduled to switch from Red Trendsetters to Blue Trendsetters\n",
      "NOTIFICATION: Agent follower0 is scheduled to switch from Red Followers to Blue Followers\n",
      "NOTIFICATION: Agent follower3 is scheduled to switch from Red Followers to Blue Followers\n",
      "\n",
      "Total census for period 22:\n",
      "==================\n",
      "Group census:\n",
      "==================\n",
      "  Blue Trendsetters: 3\n",
      "  Red Trendsetters: 1\n",
      "  Red Followers: 4\n",
      "  Blue Followers: 0\n",
      "==================\n",
      "Agent census:\n",
      "==================\n",
      "  Total agents moved: 134\n",
      "  Total agents who switched groups: 2\n",
      "NOTIFICATION: Switching 3 agents between groups\n",
      "NOTIFICATION: Agent tsetter1 is scheduled to switch from Blue Trendsetters to Red Trendsetters\n",
      "\n",
      "Total census for period 23:\n",
      "==================\n",
      "Group census:\n",
      "==================\n",
      "  Blue Trendsetters: 4\n",
      "  Red Trendsetters: 0\n",
      "  Red Followers: 2\n",
      "  Blue Followers: 2\n",
      "==================\n",
      "Agent census:\n",
      "==================\n",
      "  Total agents moved: 141\n",
      "  Total agents who switched groups: 3\n",
      "NOTIFICATION: Switching 1 agents between groups\n",
      "NOTIFICATION: Agent tsetter3 is scheduled to switch from Blue Trendsetters to Red Trendsetters\n",
      "NOTIFICATION: Agent tsetter2 is scheduled to switch from Blue Trendsetters to Red Trendsetters\n",
      "NOTIFICATION: Agent tsetter1 is scheduled to switch from Red Trendsetters to Blue Trendsetters\n",
      "\n",
      "Total census for period 24:\n",
      "==================\n",
      "Group census:\n",
      "==================\n",
      "  Blue Trendsetters: 3\n",
      "  Red Trendsetters: 1\n",
      "  Red Followers: 2\n",
      "  Blue Followers: 2\n",
      "==================\n",
      "Agent census:\n",
      "==================\n",
      "  Total agents moved: 146\n",
      "  Total agents who switched groups: 1\n",
      "\n",
      "***************\n",
      "Menu of Actions\n",
      "***************\n",
      "1.  Run for N periods\n",
      "2.  Display a population graph\n",
      "3.  Display a scatter plot\n",
      "4.  Examine model data\n",
      "6.  View log\n",
      "0.  Quit\n",
      "Please choose a number from the menu above:\n"
     ]
    },
    {
     "name": "stdout",
     "output_type": "stream",
     "text": [
      "2\n",
      "Drawing a line graph.\n"
     ]
    },
    {
     "data": {
      "image/png": "[encoded data removed]",
      "text/plain": [
       "<Figure size 432x288 with 1 Axes>"
      ]
     },
     "metadata": {},
     "output_type": "display_data"
    },
    {
     "name": "stdout",
     "output_type": "stream",
     "text": [
      "\n",
      "***************\n",
      "Menu of Actions\n",
      "***************\n",
      "1.  Run for N periods\n",
      "2.  Display a population graph\n",
      "3.  Display a scatter plot\n",
      "4.  Examine model data\n",
      "6.  View log\n",
      "0.  Quit\n",
      "Updating the line graph.\n"
     ]
    },
    {
     "data": {
      "image/png": "[encoded data removed]",
      "text/plain": [
       "<Figure size 432x288 with 1 Axes>"
      ]
     },
     "metadata": {},
     "output_type": "display_data"
    },
    {
     "name": "stdout",
     "output_type": "stream",
     "text": [
      "Please choose a number from the menu above:\n"
     ]
    }
   ],
   "source": [
    "%matplotlib inline\n",
    "from models.fashion import main as famain\n",
    "\n",
    "famain()"
   ]
  },
  {
   "cell_type": "code",
   "execution_count": null,
   "metadata": {},
   "outputs": [],
   "source": [
    "0"
   ]
  }
 ],
 "metadata": {
  "kernelspec": {
   "display_name": "Python 3",
   "language": "python",
   "name": "python3"
  },
  "language_info": {
   "codemirror_mode": {
    "name": "ipython",
    "version": 3
   },
   "file_extension": ".py",
   "mimetype": "text/x-python",
   "name": "python",
   "nbconvert_exporter": "python",
   "pygments_lexer": "ipython3",
   "version": "3.6.2"
  }
 },
 "nbformat": 4,
 "nbformat_minor": 4
}
