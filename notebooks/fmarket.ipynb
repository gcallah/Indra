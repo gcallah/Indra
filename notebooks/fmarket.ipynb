{
 "cells": [
  {
   "cell_type": "markdown",
   "metadata": {},
   "source": [
    "# How to run the ../models/fmarket model."
   ]
  },
  {
   "cell_type": "markdown",
   "metadata": {},
   "source": [
    "First we import all necessary files."
   ]
  },
  {
   "cell_type": "code",
   "execution_count": null,
   "metadata": {},
   "outputs": [],
   "source": [
    "from math import isclose\n",
    "from models.fmarket import set_up"
   ]
  },
  {
   "cell_type": "markdown",
   "metadata": {},
   "source": [
    "We then initialize global variables."
   ]
  },
  {
   "cell_type": "code",
   "execution_count": null,
   "metadata": {},
   "outputs": [],
   "source": [
    "from indra.agent import Agent\n",
    "from indra.composite import Composite\n",
    "from indra.display_methods import BLUE, RED\n",
    "from indra.env import Env, UNLIMITED\n",
    "from registry.registry import get_env, get_prop\n",
    "from registry.registry import run_notice, user_log_notif\n",
    "from indra.utils import gaussian\n",
    "from indra.utils import init_props\n",
    "\n",
    "MODEL_NAME = \"fmarket\"\n",
    "DEF_NUM_TREND_FOLLOWER = 10\n",
    "DEF_NUM_VALUE_INVESTOR = 10\n",
    "DEF_CAPITAL = 1000\n",
    "DEF_PRICE = 8  # a starting point\n",
    "DEF_PERIODS = 3\n",
    "DEF_NUM_ASSET = 10\n",
    "DEF_MIN_PRICE_MOVE = .2\n",
    "DEF_MAX_PRICE_MOVE = .4\n",
    "INF = 1000000000  # just some very big num!\n",
    "DEF_REAL_VALUE = 10\n",
    "DEF_DISCOUNT = .002\n",
    "DEF_SIGMA = .8\n",
    "MARKET_MAKER = \"market_maker\"\n",
    "ASSET_PRICE = \"Asset Price\"\n",
    "\n"
   ]
  },
  {
   "cell_type": "markdown",
   "metadata": {},
   "source": [
    "Next we call the `set_up` function to set up the environment, groups, and agents of the model."
   ]
  },
  {
   "cell_type": "code",
   "execution_count": null,
   "metadata": {},
   "outputs": [],
   "source": [
    "set_up()\n"
   ]
  },
  {
   "cell_type": "markdown",
   "metadata": {},
   "source": [
    "You can run the model N periods by typing the number you want in the following function and then running it."
   ]
  },
  {
   "cell_type": "code",
   "execution_count": null,
   "metadata": {},
   "outputs": [],
   "source": [
    "Env(MODEL_NAME,\n",
    ".runN()"
   ]
  },
  {
   "cell_type": "markdown",
   "metadata": {},
   "source": [
    "You can view the position of all of the agents in space with the following command:"
   ]
  },
  {
   "cell_type": "code",
   "execution_count": null,
   "metadata": {},
   "outputs": [],
   "source": [
    "Env(MODEL_NAME,\n",
    ".scatter_graph()"
   ]
  },
  {
   "cell_type": "markdown",
   "metadata": {},
   "source": [
    "You can view the line graph through the following command:"
   ]
  },
  {
   "cell_type": "code",
   "execution_count": null,
   "metadata": {},
   "outputs": [],
   "source": [
    "Env(MODEL_NAME,\n",
    ".line_graph()"
   ]
  }
 ],
 "metadata": {},
 "nbformat": 4,
 "nbformat_minor": 2
}
