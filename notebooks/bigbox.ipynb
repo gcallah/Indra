{
 "cells": [
  {
   "cell_type": "markdown",
   "metadata": {},
   "source": [
    "# How to run the ../models/bigbox model."
   ]
  },
  {
   "cell_type": "markdown",
   "metadata": {},
   "source": [
    "First we import all necessary files."
   ]
  },
  {
   "cell_type": "code",
   "execution_count": null,
   "metadata": {},
   "outputs": [],
   "source": [
    "import random\n",
    "from models.bigbox import set_up"
   ]
  },
  {
   "cell_type": "markdown",
   "metadata": {},
   "source": [
    "We then initialize global variables."
   ]
  },
  {
   "cell_type": "code",
   "execution_count": null,
   "metadata": {},
   "outputs": [],
   "source": [
    "from indra.agent import Agent\n",
    "from indra.composite import Composite\n",
    "from indra.display_methods import BLACK, BLUE, GRAY, GREEN, RED, TAN, YELLOW\n",
    "from indra.env import Env\n",
    "from registry.registry import get_env, get_prop, get_group, set_env_attr\n",
    "from indra.space import DEF_HEIGHT, DEF_WIDTH\n",
    "from indra.utils import init_props\n",
    "\n",
    "MODEL_NAME = \"bigbox\"\n",
    "NUM_OF_CONSUMERS = 50\n",
    "NUM_OF_MP = 8\n",
    "DEBUG = False\n",
    "\n",
    "CONSUMER_INDX = 0\n",
    "BB_INDX = 1\n",
    "\n",
    "HOOD_SIZE = 2\n",
    "MP_PREF = 0.1\n",
    "PERIOD = 7\n",
    "STANDARD = 200\n",
    "MULTIPLIER = 10\n",
    "\n",
    "EXPENSE_INDX = 0\n",
    "CAPITAL_INDX = 1\n",
    "COLOR_INDX = 2\n",
    "\n",
    "mp_pref = None\n",
    "hood_size = None\n",
    "bb_capital = 2000\n",
    "\n",
    "period = None\n",
    "store_census = None\n",
    "\n",
    "# The data below creates store types with default values.\n",
    "# \"Store type\":\n",
    "# [expense, capital, color]\n",
    "mp_stores = {\"Bookshop\": [65, 90, TAN],\n",
    "             \"Coffeeshop\": [63, 100, BLACK],\n",
    "             \"Grocery store\": [67, 100, GREEN],\n",
    "             \"Hardware\": [60, 110, RED],\n",
    "             \"Restaurant\": [60, 100, YELLOW]}\n",
    "\n"
   ]
  },
  {
   "cell_type": "markdown",
   "metadata": {},
   "source": [
    "Next we call the `set_up` function to set up the environment, groups, and agents of the model."
   ]
  },
  {
   "cell_type": "code",
   "execution_count": null,
   "metadata": {},
   "outputs": [],
   "source": [
    "set_up()\n"
   ]
  },
  {
   "cell_type": "markdown",
   "metadata": {},
   "source": [
    "You can run the model N periods by typing the number you want in the following function and then running it."
   ]
  },
  {
   "cell_type": "code",
   "execution_count": null,
   "metadata": {},
   "outputs": [],
   "source": [
    "Env(\"Town\",\n",
    ".runN()"
   ]
  },
  {
   "cell_type": "markdown",
   "metadata": {},
   "source": [
    "You can view the position of all of the agents in space with the following command:"
   ]
  },
  {
   "cell_type": "code",
   "execution_count": null,
   "metadata": {},
   "outputs": [],
   "source": [
    "Env(\"Town\",\n",
    ".scatter_graph()"
   ]
  },
  {
   "cell_type": "markdown",
   "metadata": {},
   "source": [
    "You can view the line graph through the following command:"
   ]
  },
  {
   "cell_type": "code",
   "execution_count": null,
   "metadata": {},
   "outputs": [],
   "source": [
    "Env(\"Town\",\n",
    ".line_graph()"
   ]
  }
 ],
 "metadata": {},
 "nbformat": 4,
 "nbformat_minor": 2
}
