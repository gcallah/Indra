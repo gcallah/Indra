{
 "cells": [
  {
   "cell_type": "markdown",
   "metadata": {},
   "source": [
    "# How to run the ../models/forestfire model."
   ]
  },
  {
   "cell_type": "markdown",
   "metadata": {},
   "source": [
    "First we import all necessary files."
   ]
  },
  {
   "cell_type": "code",
   "execution_count": null,
   "metadata": {},
   "outputs": [],
   "source": [
    "from indra.agent import Agent\n",
    "from indra.agent import prob_state_trans\n",
    "from indra.composite import Composite\n",
    "from indra.display_methods import RED, GREEN, BLACK\n",
    "from indra.display_methods import SPRINGGREEN, TOMATO, TREE\n",
    "from indra.env import Env\n",
    "from registry.registry import get_env, get_prop\n",
    "from registry.registry import user_log_err, run_notice, user_log_notif\n",
    "from indra.utils import init_props\n",
    "from models.forestfire import set_up"
   ]
  },
  {
   "cell_type": "markdown",
   "metadata": {},
   "source": [
    "We then initialize global variables."
   ]
  },
  {
   "cell_type": "code",
   "execution_count": null,
   "metadata": {},
   "outputs": [],
   "source": [
    "MODEL_NAME = \"forestfire\"\n",
    "DEBUG = False  # turns debugging code on or off\n",
    "DEBUG2 = False  # turns deeper debugging code on or off\n",
    "\n",
    "NEARBY = 1.8\n",
    "\n",
    "DEF_DIM = 30\n",
    "DEF_DENSITY = .44\n",
    "\n",
    "TREE_PREFIX = \"Tree\"\n",
    "\n",
    "# tree condition strings\n",
    "HEALTHY = \"Healthy\"\n",
    "NEW_FIRE = \"New Fire\"\n",
    "ON_FIRE = \"On Fire\"\n",
    "BURNED_OUT = \"Burned Out\"\n",
    "NEW_GROWTH = \"New Growth\"\n",
    "\n",
    "# state numbers: create as strings for JSON,\n",
    "# convert to int when we need 'em that way\n",
    "HE = \"0\"\n",
    "NF = \"1\"\n",
    "OF = \"2\"\n",
    "BO = \"3\"\n",
    "NG = \"4\"\n",
    "\n",
    "STATE_TRANS = [\n",
    "    [.985, .015, 0.0, 0.0, 0.0],\n",
    "    [0.0, 0.0, 1.0, 0.0, 0.0],\n",
    "    [0.0, 0.0, 0.0, 1.0, 0.0],\n",
    "    [0.0, 0.0, 0.0, .99, .01],\n",
    "    [1.0, 0.0, 0.0, 0.0, 0.0],\n",
    "]\n",
    "\n",
    "GROUP_MAP = \"group_map\"\n",
    "\n"
   ]
  },
  {
   "cell_type": "markdown",
   "metadata": {},
   "source": [
    "Next we call the `set_up` function to set up the environment, groups, and agents of the model."
   ]
  },
  {
   "cell_type": "code",
   "execution_count": null,
   "metadata": {},
   "outputs": [],
   "source": [
    "set_up()\n"
   ]
  },
  {
   "cell_type": "markdown",
   "metadata": {},
   "source": [
    "You can run the model N periods by typing the number you want in the following function and then running it."
   ]
  },
  {
   "cell_type": "code",
   "execution_count": null,
   "metadata": {},
   "outputs": [],
   "source": [
    "Env(MODEL_NAME, height=forest_height, width=forest_width, members=groups)\n",
    ".runN()"
   ]
  },
  {
   "cell_type": "markdown",
   "metadata": {},
   "source": [
    "You can view the position of all of the agents in space with the following command:"
   ]
  },
  {
   "cell_type": "code",
   "execution_count": null,
   "metadata": {},
   "outputs": [],
   "source": [
    "Env(MODEL_NAME, height=forest_height, width=forest_width, members=groups)\n",
    ".scatter_graph()"
   ]
  },
  {
   "cell_type": "markdown",
   "metadata": {},
   "source": [
    "You can view the line graph through the following command:"
   ]
  },
  {
   "cell_type": "code",
   "execution_count": null,
   "metadata": {},
   "outputs": [],
   "source": [
    "Env(MODEL_NAME, height=forest_height, width=forest_width, members=groups)\n",
    ".line_graph()"
   ]
  }
 ],
 "metadata": {},
 "nbformat": 4,
 "nbformat_minor": 2
}
