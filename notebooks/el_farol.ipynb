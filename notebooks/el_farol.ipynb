{
 "cells": [
  {
   "cell_type": "markdown",
   "metadata": {},
   "source": [
    "# How to run the ../models/el_farol model."
   ]
  },
  {
   "cell_type": "markdown",
   "metadata": {},
   "source": [
    "First we import all necessary files."
   ]
  },
  {
   "cell_type": "code",
   "execution_count": null,
   "metadata": {},
   "outputs": [],
   "source": [
    "import random\n",
    "from models.el_farol import set_up"
   ]
  },
  {
   "cell_type": "markdown",
   "metadata": {},
   "source": [
    "We then initialize global variables."
   ]
  },
  {
   "cell_type": "code",
   "execution_count": null,
   "metadata": {},
   "outputs": [],
   "source": [
    "from indra.agent import Agent\n",
    "from indra.composite import Composite\n",
    "from indra.display_methods import BLUE, RED\n",
    "from indra.env import Env\n",
    "from registry.registry import get_env, get_group, get_prop\n",
    "from registry.registry import user_tell, run_notice, user_log_notif\n",
    "from indra.space import DEF_HEIGHT, DEF_WIDTH\n",
    "from indra.utils import init_props\n",
    "\n",
    "DEBUG = False\n",
    "\n",
    "MODEL_NAME = \"el_farol\"\n",
    "DRINKERS = \"At bar\"\n",
    "NON_DRINKERS = \"At home\"\n",
    "BAR_ATTEND = \"Bar attendees\"\n",
    "ATTENDANCE = \"attendance\"\n",
    "AGENTS_DECIDED = \"agents_decided\"\n",
    "OPT_OCCUPANCY = \"opt_occupancy\"\n",
    "MOTIV = \"motivation\"\n",
    "\n",
    "DEF_POPULATION = 10\n",
    "DEF_MOTIV = 0.6\n",
    "MIN_MOTIV = 0.05\n",
    "DEF_OPTIMAL_OCCUPANCY = int(DEF_MOTIV * DEF_POPULATION)\n",
    "NUM_DRINKERS = DEF_POPULATION // 2\n",
    "NUM_NON_DRINKERS = DEF_POPULATION - NUM_DRINKERS\n",
    "\n"
   ]
  },
  {
   "cell_type": "markdown",
   "metadata": {},
   "source": [
    "Next we call the `set_up` function to set up the environment, groups, and agents of the model."
   ]
  },
  {
   "cell_type": "code",
   "execution_count": null,
   "metadata": {},
   "outputs": [],
   "source": [
    "set_up()\n"
   ]
  },
  {
   "cell_type": "markdown",
   "metadata": {},
   "source": [
    "You can run the model N periods by typing the number you want in the following function and then running it."
   ]
  },
  {
   "cell_type": "code",
   "execution_count": null,
   "metadata": {},
   "outputs": [],
   "source": [
    "bar.runN()"
   ]
  },
  {
   "cell_type": "markdown",
   "metadata": {},
   "source": [
    "You can view the position of all of the agents in space with the following command:"
   ]
  },
  {
   "cell_type": "code",
   "execution_count": null,
   "metadata": {},
   "outputs": [],
   "source": [
    "bar.scatter_graph()"
   ]
  },
  {
   "cell_type": "markdown",
   "metadata": {},
   "source": [
    "You can view the line graph through the following command:"
   ]
  },
  {
   "cell_type": "code",
   "execution_count": null,
   "metadata": {},
   "outputs": [],
   "source": [
    "bar.line_graph()"
   ]
  }
 ],
 "metadata": {},
 "nbformat": 4,
 "nbformat_minor": 2
}
