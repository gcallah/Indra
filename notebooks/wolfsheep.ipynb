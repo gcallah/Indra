{
 "cells": [
  {
   "cell_type": "markdown",
   "metadata": {},
   "source": [
    "# How to run the ../models/wolfsheep model."
   ]
  },
  {
   "cell_type": "markdown",
   "metadata": {},
   "source": [
    "First we import all necessary files."
   ]
  },
  {
   "cell_type": "code",
   "execution_count": null,
   "metadata": {},
   "outputs": [],
   "source": [
    "from indra.composite import Composite\n",
    "from indra.display_methods import TAN, GRAY\n",
    "from indra.env import Env\n",
    "from registry.registry import get_prop, get_group, get_env\n",
    "from registry.registry import user_tell, run_notice\n",
    "from indra.space import in_hood\n",
    "from indra.utils import init_props\n",
    "from models.wolfsheep import set_up"
   ]
  },
  {
   "cell_type": "markdown",
   "metadata": {},
   "source": [
    "We then initialize global variables."
   ]
  },
  {
   "cell_type": "code",
   "execution_count": null,
   "metadata": {},
   "outputs": [],
   "source": [
    "MODEL_NAME = \"wolfsheep\"\n",
    "DEBUG = False  # turns debugging code on or off\n",
    "DEBUG2 = False  # turns deeper debugging code on or off\n",
    "NUM_WOLVES = 8\n",
    "NUM_SHEEP = 20\n",
    "HOOD_SIZE = 3\n",
    "MEADOW_HEIGHT = 10\n",
    "MEADOW_WIDTH = 10\n",
    "\n",
    "WOLF_LIFESPAN = 5\n",
    "WOLF_REPRO_PERIOD = 6\n",
    "\n",
    "SHEEP_LIFESPAN = 8\n",
    "SHEEP_REPRO_PERIOD = 3\n",
    "\n",
    "AGT_WOLF_NAME = \"wolf\"\n",
    "AGT_SHEEP_NAME = \"sheep\"\n",
    "\n",
    "WOLF_GROUP = \"wolves\"\n",
    "SHEEP_GROUP = \"sheep\"\n",
    "\n",
    "ERR_MSG = \"Invalid agent name\"\n",
    "\n",
    "wolves_created = 0\n",
    "sheep_created = 0\n",
    "\n"
   ]
  },
  {
   "cell_type": "markdown",
   "metadata": {},
   "source": [
    "Next we call the `set_up` function to set up the environment, groups, and agents of the model."
   ]
  },
  {
   "cell_type": "code",
   "execution_count": null,
   "metadata": {},
   "outputs": [],
   "source": [
    "set_up()\n"
   ]
  },
  {
   "cell_type": "markdown",
   "metadata": {},
   "source": [
    "You can run the model N periods by typing the number you want in the following function and then running it."
   ]
  },
  {
   "cell_type": "code",
   "execution_count": null,
   "metadata": {},
   "outputs": [],
   "source": [
    "Env(MODEL_NAME,\n",
    ".runN()"
   ]
  },
  {
   "cell_type": "markdown",
   "metadata": {},
   "source": [
    "You can view the position of all of the agents in space with the following command:"
   ]
  },
  {
   "cell_type": "code",
   "execution_count": null,
   "metadata": {},
   "outputs": [],
   "source": [
    "Env(MODEL_NAME,\n",
    ".scatter_graph()"
   ]
  },
  {
   "cell_type": "markdown",
   "metadata": {},
   "source": [
    "You can view the line graph through the following command:"
   ]
  },
  {
   "cell_type": "code",
   "execution_count": null,
   "metadata": {},
   "outputs": [],
   "source": [
    "Env(MODEL_NAME,\n",
    ".line_graph()"
   ]
  }
 ],
 "metadata": {},
 "nbformat": 4,
 "nbformat_minor": 2
}
