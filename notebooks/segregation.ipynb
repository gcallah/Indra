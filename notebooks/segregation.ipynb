{
 "cells": [
  {
   "cell_type": "markdown",
   "metadata": {},
   "source": [
    "# How to run the ../models/segregation model."
   ]
  },
  {
   "cell_type": "markdown",
   "metadata": {},
   "source": [
    "First we import all necessary files."
   ]
  },
  {
   "cell_type": "code",
   "execution_count": null,
   "metadata": {},
   "outputs": [],
   "source": [
    "import random\n",
    "from models.segregation import set_up"
   ]
  },
  {
   "cell_type": "markdown",
   "metadata": {},
   "source": [
    "We then initialize global variables."
   ]
  },
  {
   "cell_type": "code",
   "execution_count": null,
   "metadata": {},
   "outputs": [],
   "source": [
    "from indra.agent import Agent\n",
    "from indra.composite import Composite\n",
    "from indra.display_methods import RED, BLUE\n",
    "from indra.env import Env\n",
    "from registry.registry import get_env, get_prop\n",
    "from registry.registry import run_notice\n",
    "from indra.utils import init_props\n",
    "\n",
    "MODEL_NAME = \"segregation\"\n",
    "DEBUG = True  # Turns debugging code on or off\n",
    "DEBUG2 = False  # Turns deeper debugging code on or off\n",
    "\n",
    "NUM_RED = 250\n",
    "NUM_BLUE = 250\n",
    "\n",
    "DEF_CITY_DIM = 40\n",
    "\n",
    "TOLERANCE = \"tolerance\"\n",
    "DEVIATION = \"deviation\"\n",
    "COLOR = \"color\"\n",
    "\n",
    "DEF_HOOD_SIZE = 1\n",
    "DEF_TOLERANCE = .5\n",
    "DEF_SIGMA = .2\n",
    "\n",
    "MAX_TOL = 0.1\n",
    "MIN_TOL = 0.9\n",
    "\n",
    "BLUE_TEAM = 0\n",
    "RED_TEAM = 1\n",
    "\n",
    "HOOD_SIZE = 4\n",
    "\n",
    "NOT_ZERO = .001\n",
    "\n",
    "BLUE_AGENTS = \"Blue agents\"\n",
    "RED_AGENTS = \"Red agents\"\n",
    "\n",
    "group_names = [BLUE_AGENTS, RED_AGENTS]\n",
    "\n",
    "hood_size = None\n",
    "\n",
    "opp_group = None\n",
    "\n"
   ]
  },
  {
   "cell_type": "markdown",
   "metadata": {},
   "source": [
    "Next we call the `set_up` function to set up the environment, groups, and agents of the model."
   ]
  },
  {
   "cell_type": "code",
   "execution_count": null,
   "metadata": {},
   "outputs": [],
   "source": [
    "set_up()\n"
   ]
  },
  {
   "cell_type": "markdown",
   "metadata": {},
   "source": [
    "You can run the model N periods by typing the number you want in the following function and then running it."
   ]
  },
  {
   "cell_type": "code",
   "execution_count": null,
   "metadata": {},
   "outputs": [],
   "source": [
    "city.runN()"
   ]
  },
  {
   "cell_type": "markdown",
   "metadata": {},
   "source": [
    "You can view the position of all of the agents in space with the following command:"
   ]
  },
  {
   "cell_type": "code",
   "execution_count": null,
   "metadata": {},
   "outputs": [],
   "source": [
    "city.scatter_graph()"
   ]
  },
  {
   "cell_type": "markdown",
   "metadata": {},
   "source": [
    "You can view the line graph through the following command:"
   ]
  },
  {
   "cell_type": "code",
   "execution_count": null,
   "metadata": {},
   "outputs": [],
   "source": [
    "city.line_graph()"
   ]
  }
 ],
 "metadata": {},
 "nbformat": 4,
 "nbformat_minor": 2
}
