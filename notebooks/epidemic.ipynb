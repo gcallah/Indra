{
 "cells": [
  {
   "cell_type": "markdown",
   "metadata": {},
   "source": [
    "# How to run the ../models/epidemic model."
   ]
  },
  {
   "cell_type": "markdown",
   "metadata": {},
   "source": [
    "First we import all necessary files."
   ]
  },
  {
   "cell_type": "code",
   "execution_count": 4,
   "metadata": {
    "scrolled": true
   },
   "outputs": [
    {
     "ename": "ModuleNotFoundError",
     "evalue": "No module named 'indra.agent'",
     "output_type": "error",
     "traceback": [
      "\u001b[1;31m---------------------------------------------------------------------------\u001b[0m",
      "\u001b[1;31mModuleNotFoundError\u001b[0m                       Traceback (most recent call last)",
      "\u001b[1;32m<ipython-input-4-1101ee20af45>\u001b[0m in \u001b[0;36m<module>\u001b[1;34m\u001b[0m\n\u001b[1;32m----> 1\u001b[1;33m \u001b[1;32mfrom\u001b[0m \u001b[0mindra\u001b[0m\u001b[1;33m.\u001b[0m\u001b[0magent\u001b[0m \u001b[1;32mimport\u001b[0m \u001b[0mAgent\u001b[0m\u001b[1;33m,\u001b[0m \u001b[0mMOVE\u001b[0m\u001b[1;33m,\u001b[0m \u001b[0mDONT_MOVE\u001b[0m\u001b[1;33m\u001b[0m\u001b[1;33m\u001b[0m\u001b[0m\n\u001b[0m\u001b[0;32m      2\u001b[0m \u001b[1;32mfrom\u001b[0m \u001b[0mindra\u001b[0m\u001b[1;33m.\u001b[0m\u001b[0magent\u001b[0m \u001b[1;32mimport\u001b[0m \u001b[0mprob_state_trans\u001b[0m\u001b[1;33m,\u001b[0m \u001b[0mset_trans\u001b[0m\u001b[1;33m\u001b[0m\u001b[1;33m\u001b[0m\u001b[0m\n\u001b[0;32m      3\u001b[0m \u001b[1;32mfrom\u001b[0m \u001b[0mindra\u001b[0m\u001b[1;33m.\u001b[0m\u001b[0mcomposite\u001b[0m \u001b[1;32mimport\u001b[0m \u001b[0mComposite\u001b[0m\u001b[1;33m\u001b[0m\u001b[1;33m\u001b[0m\u001b[0m\n\u001b[0;32m      4\u001b[0m \u001b[1;32mfrom\u001b[0m \u001b[0mindra\u001b[0m\u001b[1;33m.\u001b[0m\u001b[0mdisplay_methods\u001b[0m \u001b[1;32mimport\u001b[0m \u001b[0mRED\u001b[0m\u001b[1;33m,\u001b[0m \u001b[0mGREEN\u001b[0m\u001b[1;33m,\u001b[0m \u001b[0mBLACK\u001b[0m\u001b[1;33m\u001b[0m\u001b[1;33m\u001b[0m\u001b[0m\n\u001b[0;32m      5\u001b[0m \u001b[1;32mfrom\u001b[0m \u001b[0mindra\u001b[0m\u001b[1;33m.\u001b[0m\u001b[0mdisplay_methods\u001b[0m \u001b[1;32mimport\u001b[0m \u001b[0mTOMATO\u001b[0m\u001b[1;33m\u001b[0m\u001b[1;33m\u001b[0m\u001b[0m\n",
      "\u001b[1;31mModuleNotFoundError\u001b[0m: No module named 'indra.agent'"
     ]
    }
   ],
   "source": [
    "from indra.agent import Agent, MOVE, DONT_MOVE\n",
    "from indra.agent import prob_state_trans, set_trans\n",
    "from indra.composite import Composite\n",
    "from indra.display_methods import RED, GREEN, BLACK\n",
    "from indra.display_methods import TOMATO\n",
    "from indra.display_methods import BLUE, YELLOW\n",
    "from indra.env import Env\n",
    "from registry.registry import get_env, get_prop\n",
    "from registry.registry import user_log_err, run_notice, user_log_notif\n",
    "from indra.utils import init_props\n",
    "from indra.space import CircularRegion, exists_neighbor\n",
    "from indra.space import distance, opposing_angle\n",
    "from random import random\n",
    "from models.epidemic import set_up"
   ]
  },
  {
   "cell_type": "markdown",
   "metadata": {},
   "source": [
    "We then initialize global variables."
   ]
  },
  {
   "cell_type": "code",
   "execution_count": null,
   "metadata": {},
   "outputs": [],
   "source": [
    "MODEL_NAME = \"epidemic\"\n",
    "DEBUG = False  # turns debugging code on or off\n",
    "DEBUG2 = False  # turns deeper debugging code on or off\n",
    "\n",
    "# Constants that are re-analyzed in setup\n",
    "DEF_CON_DUR = 2\n",
    "DEF_CON_PROB = 1 - (1 / DEF_CON_DUR)\n",
    "DEF_DIM = 30\n",
    "DEF_DENSITY = .44\n",
    "DEF_DEATH_RATE = (1 / DEF_CON_DUR) * .06\n",
    "DEF_INFEC = 0.5\n",
    "DEF_IMMUNE_PER = 10\n",
    "DEF_IM_HE_TRANS = 1 / DEF_IMMUNE_PER\n",
    "DEF_IM_STAY = 1 - DEF_IM_HE_TRANS\n",
    "DEF_SURV_RATE = (1 / DEF_CON_DUR) - DEF_DEATH_RATE\n",
    "DEF_EX_HE_TRANS = 1 - DEF_INFEC\n",
    "DEF_PERSON_MOVE = 3\n",
    "DEF_DISTANCING = 2\n",
    "DEF_INFEC = 0.02\n",
    "DEF_INFEC_DIST = 1\n",
    "DEF_MASK_RATE = 0.5\n",
    "\n",
    "PERSON_PREFIX = \"Person\"\n",
    "\n",
    "# health condition strings\n",
    "HEALTHY = \"Healthy\"\n",
    "EXPOSED = \"Exposed\"\n",
    "INFECTED = \"Infected\"\n",
    "CONTAGIOUS = \"Contagious\"\n",
    "DEAD = \"Dead\"\n",
    "IMMUNE = \"Immune\"\n",
    "\n",
    "# state numbers: create as strings for JSON,\n",
    "# convert to int when we need 'em that way\n",
    "# these should be changed to 2 letter abbreviations of the above.\n",
    "HE = \"0\"\n",
    "EX = \"1\"\n",
    "IN = \"2\"\n",
    "CN = \"3\"\n",
    "DE = \"4\"\n",
    "IM = \"5\"\n",
    "\n"
   ]
  },
  {
   "cell_type": "markdown",
   "metadata": {},
   "source": [
    "Next we call the `set_up` function to set up the environment, groups, and agents of the model."
   ]
  },
  {
   "cell_type": "code",
   "execution_count": null,
   "metadata": {},
   "outputs": [],
   "source": [
    "set_up()\n"
   ]
  },
  {
   "cell_type": "markdown",
   "metadata": {},
   "source": [
    "You can run the model N periods by typing the number you want in the following function and then running it."
   ]
  },
  {
   "cell_type": "code",
   "execution_count": null,
   "metadata": {},
   "outputs": [],
   "source": [
    "Env(MODEL_NAME, height=city_height, width=city_width, members=groups)\n",
    ".runN()"
   ]
  },
  {
   "cell_type": "markdown",
   "metadata": {},
   "source": [
    "You can view the position of all of the agents in space with the following command:"
   ]
  },
  {
   "cell_type": "code",
   "execution_count": null,
   "metadata": {},
   "outputs": [],
   "source": [
    "Env(MODEL_NAME, height=city_height, width=city_width, members=groups)\n",
    ".scatter_graph()"
   ]
  },
  {
   "cell_type": "markdown",
   "metadata": {},
   "source": [
    "You can view the line graph through the following command:"
   ]
  },
  {
   "cell_type": "code",
   "execution_count": null,
   "metadata": {},
   "outputs": [],
   "source": [
    "Env(MODEL_NAME, height=city_height, width=city_width, members=groups)\n",
    ".line_graph()"
   ]
  },
  {
   "cell_type": "code",
   "execution_count": null,
   "metadata": {},
   "outputs": [],
   "source": []
  }
 ],
 "metadata": {
  "kernelspec": {
   "display_name": "Python 3",
   "language": "python",
   "name": "python3"
  },
  "language_info": {
   "codemirror_mode": {
    "name": "ipython",
    "version": 3
   },
   "file_extension": ".py",
   "mimetype": "text/x-python",
   "name": "python",
   "nbconvert_exporter": "python",
   "pygments_lexer": "ipython3",
   "version": "3.7.6"
  }
 },
 "nbformat": 4,
 "nbformat_minor": 4
}
