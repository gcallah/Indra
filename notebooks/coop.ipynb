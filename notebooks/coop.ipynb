{
 "cells": [
  {
   "cell_type": "markdown",
   "metadata": {},
   "source": [
    "# How to run the ../models/coop model."
   ]
  },
  {
   "cell_type": "markdown",
   "metadata": {},
   "source": [
    "First we import all necessary files."
   ]
  },
  {
   "cell_type": "code",
   "execution_count": 2,
   "metadata": {},
   "outputs": [],
   "source": [
    "from models.coop import set_up"
   ]
  },
  {
   "cell_type": "markdown",
   "metadata": {},
   "source": [
    "We then initialize global variables."
   ]
  },
  {
   "cell_type": "code",
   "execution_count": 3,
   "metadata": {},
   "outputs": [],
   "source": [
    "from indra.agent import Agent\n",
    "from indra.composite import Composite\n",
    "from indra.display_methods import RED, GREEN\n",
    "from indra.env import Env, UNLIMITED\n",
    "from registry.registry import get_env, get_group, get_prop\n",
    "from registry.registry import get_env_attr, set_env_attr\n",
    "from registry.registry import user_tell, run_notice, user_log_notif\n",
    "from indra.utils import gaussian\n",
    "from indra.utils import init_props\n",
    "\n",
    "MODEL_NAME = 'coop'\n",
    "\n",
    "DEF_BABYSITTER = 10\n",
    "DEF_DESIRED_CASH_BAL = 8\n",
    "DEF_COUPON = 2\n",
    "DEF_DISTRIBUTING_COUPON = 2\n",
    "DEF_SIGMA = 0.2\n",
    "DEF_PERCENT = 10\n",
    "\n",
    "CO_OP_MEMBERS = \"Co-op members\"\n",
    "\n",
    "BABYSIT = \"BABYSITTING\"\n",
    "GO_OUT = \"GOING_OUT\"\n",
    "\n"
   ]
  },
  {
   "cell_type": "markdown",
   "metadata": {},
   "source": [
    "Next we call the `set_up` function to set up the environment, groups, and agents of the model."
   ]
  },
  {
   "cell_type": "code",
   "execution_count": 4,
   "metadata": {},
   "outputs": [
    {
     "name": "stdout",
     "output_type": "stream",
     "text": [
      "How many co-op members do you want? [1-100] (40) \n",
      "What is the average number of coupons each member should receive? [1-100] (8) \n",
      "What is the std deviation for average coupons? [0.001-0.5] (0.05) \n",
      "What is the average desired cash balance? [1-100] (7) \n",
      "How much should 'unemployment' increase before the central bank prints more coupons? [1-50] (10.0) \n",
      "How many extra coupons do you want to distribute on average? [1-50] (2) \n",
      "What is the std deviation of that distribution? [0.001-0.5] (0.05) \n",
      "Welcome to Indra, gcallah!\n",
      "NOTIFICATION: Setting env attrs for coop\n"
     ]
    }
   ],
   "source": [
    "set_up()\n"
   ]
  },
  {
   "cell_type": "markdown",
   "metadata": {},
   "source": [
    "You can run the model N periods by typing the number you want in the following function and then running it."
   ]
  },
  {
   "cell_type": "code",
   "execution_count": 5,
   "metadata": {},
   "outputs": [
    {
     "name": "stdout",
     "output_type": "stream",
     "text": [
      "Running env coop for 10 periods.\n",
      "In handle: # switches = 0; id: 4715860168\n",
      "Switching 0 agents between groups\n",
      "Number of babysitters is: 32\n",
      "\n",
      "In handle: # switches = 0; id: 4715860168\n",
      "Switching 0 agents between groups\n",
      "Unemployment has risen to 60.0 more than default value 10.0 CB Intervened\n",
      "Number of babysitters is: 33\n",
      "\n",
      "In handle: # switches = 0; id: 4715860168\n",
      "Switching 0 agents between groups\n",
      "Unemployment has risen to 65.0 more than default value 10.0 CB Intervened\n",
      "Number of babysitters is: 21\n",
      "\n",
      "In handle: # switches = 0; id: 4715860168\n",
      "Switching 0 agents between groups\n",
      "Number of babysitters is: 21\n",
      "\n",
      "In handle: # switches = 0; id: 4715860168\n",
      "Switching 0 agents between groups\n",
      "Number of babysitters is: 24\n",
      "\n",
      "In handle: # switches = 0; id: 4715860168\n",
      "Switching 0 agents between groups\n",
      "Unemployment has risen to 20.0 more than default value 10.0 CB Intervened\n",
      "Number of babysitters is: 25\n",
      "\n",
      "In handle: # switches = 0; id: 4715860168\n",
      "Switching 0 agents between groups\n",
      "Unemployment has risen to 25.0 more than default value 10.0 CB Intervened\n",
      "Number of babysitters is: 19\n",
      "\n",
      "In handle: # switches = 0; id: 4715860168\n",
      "Switching 0 agents between groups\n",
      "Number of babysitters is: 14\n",
      "\n",
      "In handle: # switches = 0; id: 4715860168\n",
      "Switching 0 agents between groups\n",
      "Unemployment has risen to 30.0 more than default value 10.0 CB Intervened\n",
      "Number of babysitters is: 20\n",
      "\n",
      "In handle: # switches = 0; id: 4715860168\n",
      "Switching 0 agents between groups\n",
      "Number of babysitters is: 17\n",
      "\n"
     ]
    },
    {
     "data": {
      "text/plain": [
       "410"
      ]
     },
     "execution_count": 5,
     "metadata": {},
     "output_type": "execute_result"
    }
   ],
   "source": [
    "get_env().runN()"
   ]
  },
  {
   "cell_type": "markdown",
   "metadata": {},
   "source": [
    "You can view the position of all of the agents in space with the following command:"
   ]
  },
  {
   "cell_type": "code",
   "execution_count": null,
   "metadata": {},
   "outputs": [],
   "source": [
    "Env(MODEL_NAME, members=[co_op_members, central_bank],\n",
    ".scatter_graph()"
   ]
  },
  {
   "cell_type": "markdown",
   "metadata": {},
   "source": [
    "You can view the line graph through the following command:"
   ]
  },
  {
   "cell_type": "code",
   "execution_count": null,
   "metadata": {},
   "outputs": [],
   "source": [
    "Env(MODEL_NAME, members=[co_op_members, central_bank],\n",
    ".line_graph()"
   ]
  }
 ],
 "metadata": {
  "kernelspec": {
   "display_name": "Python 3",
   "language": "python",
   "name": "python3"
  },
  "language_info": {
   "codemirror_mode": {
    "name": "ipython",
    "version": 3
   },
   "file_extension": ".py",
   "mimetype": "text/x-python",
   "name": "python",
   "nbconvert_exporter": "python",
   "pygments_lexer": "ipython3",
   "version": "3.6.2"
  }
 },
 "nbformat": 4,
 "nbformat_minor": 2
}
