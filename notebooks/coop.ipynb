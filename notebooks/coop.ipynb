{
 "cells": [
  {
   "cell_type": "markdown",
   "metadata": {},
   "source": [
    "# How to run the ../models/coop model."
   ]
  },
  {
   "cell_type": "markdown",
   "metadata": {},
   "source": [
    "First we import all necessary files."
   ]
  },
  {
   "cell_type": "code",
   "execution_count": null,
   "metadata": {},
   "outputs": [],
   "source": [
    "from models.coop import set_up"
   ]
  },
  {
   "cell_type": "markdown",
   "metadata": {},
   "source": [
    "We then initialize global variables."
   ]
  },
  {
   "cell_type": "code",
   "execution_count": null,
   "metadata": {},
   "outputs": [],
   "source": [
    "from indra.agent import Agent\n",
    "from indra.composite import Composite\n",
    "from indra.display_methods import RED, GREEN\n",
    "from indra.env import Env, UNLIMITED\n",
    "from registry.execution_registry import CLI_EXEC_KEY, \\\n",
    "    EXEC_KEY, get_exec_key\n",
    "from registry.registry import get_env, get_group, get_prop\n",
    "from registry.registry import get_env_attr, set_env_attr\n",
    "from registry.registry import user_tell, run_notice, user_log_notif\n",
    "from indra.utils import gaussian\n",
    "from indra.utils import init_props\n",
    "\n",
    "MODEL_NAME = 'coop'\n",
    "\n",
    "DEF_BABYSITTER = 10\n",
    "DEF_DESIRED_CASH_BAL = 8\n",
    "DEF_COUPON = 2\n",
    "DEF_DISTRIBUTING_COUPON = 2\n",
    "DEF_SIGMA = 0.2\n",
    "DEF_PERCENT = 10\n",
    "\n",
    "CO_OP_MEMBERS = \"Co-op members\"\n",
    "\n",
    "BABYSIT = \"BABYSITTING\"\n",
    "GO_OUT = \"GOING_OUT\"\n",
    "\n"
   ]
  },
  {
   "cell_type": "markdown",
   "metadata": {},
   "source": [
    "Next we call the `set_up` function to set up the environment, groups, and agents of the model."
   ]
  },
  {
   "cell_type": "code",
   "execution_count": null,
   "metadata": {},
   "outputs": [],
   "source": [
    "set_up()\n"
   ]
  },
  {
   "cell_type": "markdown",
   "metadata": {},
   "source": [
    "You can run the model N periods by typing the number you want in the following function and then running it."
   ]
  },
  {
   "cell_type": "code",
   "execution_count": null,
   "metadata": {},
   "outputs": [],
   "source": [
    "Env(MODEL_NAME, members=[co_op_members, central_bank],\n",
    ".runN()"
   ]
  },
  {
   "cell_type": "markdown",
   "metadata": {},
   "source": [
    "You can view the position of all of the agents in space with the following command:"
   ]
  },
  {
   "cell_type": "code",
   "execution_count": null,
   "metadata": {},
   "outputs": [],
   "source": [
    "Env(MODEL_NAME, members=[co_op_members, central_bank],\n",
    ".scatter_graph()"
   ]
  },
  {
   "cell_type": "markdown",
   "metadata": {},
   "source": [
    "You can view the line graph through the following command:"
   ]
  },
  {
   "cell_type": "code",
   "execution_count": null,
   "metadata": {},
   "outputs": [],
   "source": [
    "Env(MODEL_NAME, members=[co_op_members, central_bank],\n",
    ".line_graph()"
   ]
  }
 ],
 "metadata": {},
 "nbformat": 4,
 "nbformat_minor": 2
}
